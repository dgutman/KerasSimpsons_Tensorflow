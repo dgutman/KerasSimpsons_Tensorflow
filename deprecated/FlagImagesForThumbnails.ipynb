{
 "cells": [
  {
   "cell_type": "code",
   "execution_count": 3,
   "metadata": {
    "collapsed": false
   },
   "outputs": [],
   "source": [
    "import girder_client as gc\n",
    "\n",
    "\n",
    "SimpsonsGirder = gc.GirderClient(apiUrl='http://computablebrain.emory.edu:8080/api/v1')"
   ]
  },
  {
   "cell_type": "code",
   "execution_count": 4,
   "metadata": {
    "collapsed": false
   },
   "outputs": [
    {
     "name": "stdout",
     "output_type": "stream",
     "text": [
      "Login or email: admin\n",
      "Password for admin: ········\n"
     ]
    }
   ],
   "source": [
    "SimpsonsGirder.authenticate(interactive=True)"
   ]
  },
  {
   "cell_type": "code",
   "execution_count": 6,
   "metadata": {
    "collapsed": true
   },
   "outputs": [],
   "source": [
    "TrainingFolderID = '5a35cc4492ca9a00c095becd'\n",
    "\n",
    "TrainingFolderContent = list( SimpsonsGirder.listFolder(TrainingFolderID) )"
   ]
  },
  {
   "cell_type": "code",
   "execution_count": 18,
   "metadata": {
    "collapsed": false
   },
   "outputs": [
    {
     "name": "stdout",
     "output_type": "stream",
     "text": [
      "abraham_grampa_simpsons\n",
      "agnes_skinner\n",
      "apu_nahasapeemapetilon\n",
      "barney_gumble\n",
      "bart_simpson\n",
      "bumblebee_man\n",
      "carl_carlson\n",
      "charles_montgomery_burns\n",
      "chief_wiggum\n",
      "cletus_spuckler\n",
      "comic_book_guy\n",
      "disco_stu\n",
      "edna_krabappel\n",
      "fat_tony\n",
      "gil\n",
      "groundskeeper_willie\n",
      "hans_moleman\n",
      "helen_lovejoy\n",
      "homer_simpson\n",
      "jasper_beardly\n",
      "jimbo_jones\n",
      "kent_brockman\n",
      "krusty_the_clown\n",
      "lenny_leonard\n",
      "lionel_hutz\n",
      "lisa_simpson\n",
      "maggie_simpson\n",
      "marge_simpson\n",
      "martin_prince\n",
      "mayor_quimby\n",
      "milhouse_van_houten\n",
      "miss_hoover\n",
      "moe_szyslak\n",
      "ned_flanders\n",
      "nelson_muntz\n",
      "otto_mann\n",
      "patty_bouvier\n",
      "principal_skinner\n",
      "professor_john_frink\n",
      "rainier_wolfcastle\n",
      "ralph_wiggum\n",
      "selma_bouvier\n",
      "sideshow_bob\n",
      "sideshow_mel\n",
      "snake_jailbird\n",
      "troy_mcclure\n",
      "waylon_smithers\n"
     ]
    }
   ],
   "source": [
    "for c in TrainingFolderContent:\n",
    "    print c['name']\n",
    "    \n",
    "    for f in SimpsonsGirder.listItem(c['_id']):\n",
    "        try:\n",
    "            SimpsonsGirder.post(\"item/%s/tiles\" % f['_id'])    \n",
    "        except:\n",
    "            pass"
   ]
  },
  {
   "cell_type": "code",
   "execution_count": 22,
   "metadata": {
    "collapsed": false
   },
   "outputs": [
    {
     "data": {
      "text/plain": [
       "<girder_client.GirderClient at 0x7f529247b610>"
      ]
     },
     "execution_count": 22,
     "metadata": {},
     "output_type": "execute_result"
    }
   ],
   "source": []
  },
  {
   "cell_type": "code",
   "execution_count": null,
   "metadata": {
    "collapsed": true
   },
   "outputs": [],
   "source": []
  }
 ],
 "metadata": {
  "anaconda-cloud": {},
  "kernelspec": {
   "display_name": "Python [conda env:DeepLearner]",
   "language": "python",
   "name": "conda-env-DeepLearner-py"
  },
  "language_info": {
   "codemirror_mode": {
    "name": "ipython",
    "version": 2
   },
   "file_extension": ".py",
   "mimetype": "text/x-python",
   "name": "python",
   "nbconvert_exporter": "python",
   "pygments_lexer": "ipython2",
   "version": "2.7.12"
  }
 },
 "nbformat": 4,
 "nbformat_minor": 1
}
