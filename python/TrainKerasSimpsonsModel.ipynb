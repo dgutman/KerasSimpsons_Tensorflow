{
 "cells": [
  {
   "cell_type": "code",
   "execution_count": 1,
   "metadata": {},
   "outputs": [
    {
     "name": "stderr",
     "output_type": "stream",
     "text": [
      "Using TensorFlow backend.\n"
     ]
    },
    {
     "ename": "RuntimeError",
     "evalue": "module compiled against API version 0xb but this version of numpy is 0xa",
     "output_type": "error",
     "traceback": [
      "\u001b[0;31m---------------------------------------------------------------------------\u001b[0m",
      "\u001b[0;31mRuntimeError\u001b[0m                              Traceback (most recent call last)",
      "\u001b[0;31mRuntimeError\u001b[0m: module compiled against API version 0xb but this version of numpy is 0xa"
     ]
    }
   ],
   "source": [
    "from keras.preprocessing.image import ImageDataGenerator, array_to_img, img_to_array, load_img\n",
    "from keras.models import Sequential\n",
    "from keras.layers import Conv2D, MaxPooling2D\n",
    "from keras.layers import Activation, Dropout, Flatten, Dense\n",
    "from keras import backend as K\n",
    "import os\n",
    "import sys\n",
    "import tarfile\n",
    "import numpy as np"
   ]
  },
  {
   "cell_type": "code",
   "execution_count": null,
   "metadata": {
    "collapsed": true
   },
   "outputs": [],
   "source": []
  },
  {
   "cell_type": "code",
   "execution_count": 2,
   "metadata": {},
   "outputs": [
    {
     "name": "stdout",
     "output_type": "stream",
     "text": [
      "/home/dagutman/dev/KerasSimpsons/simpsons_dataset already present - Skipping extraction of /home/dagutman/dev/KerasSimpsons/simpsons_dataset.tar.gz.\n"
     ]
    }
   ],
   "source": [
    "data_root = os.sep+os.path.join('tmp', 'simpsons')\n",
    "dest_filename = os.path.join(data_root, 'simpsons_dataset.tar.gz')\n",
    "\n",
    "filename = '/home/dagutman/dev/KerasSimpsons/simpsons_dataset.tar.gz'\n",
    "\n",
    "def maybe_extract(filename, force=False):\n",
    "  root = os.path.splitext(os.path.splitext(filename)[0])[0]  # remove .tar.gz\n",
    "  if os.path.isdir(root) and not force:\n",
    "    print('%s already present - Skipping extraction of %s.' % (root, filename))\n",
    "  else:\n",
    "    print('Extracting data for %s. This may take a while. Please wait.' % root)\n",
    "    tar = tarfile.open(filename)\n",
    "    sys.stdout.flush()\n",
    "    tar.extractall(root)\n",
    "    tar.close()\n",
    "  data_folders = [\n",
    "    os.path.join(root, d) for d in sorted(os.listdir(root))\n",
    "    if os.path.isdir(os.path.join(root, d))]\n",
    "  #print(data_folders)\n",
    "  return data_folders\n",
    "#data_folders = maybe_extract(dest_filename)\n",
    "data_folders = maybe_extract(filename)\n"
   ]
  },
  {
   "cell_type": "code",
   "execution_count": 3,
   "metadata": {
    "collapsed": true
   },
   "outputs": [],
   "source": [
    "img_width, img_height = 64, 64\n",
    "train_data_dir = os.sep+os.path.join('home', 'dagutman', 'dev', 'KerasSimpsons',  'simpsons_dataset')\n",
    "validation_data_dir = os.sep+os.path.join('home', 'dagutman', 'dev', 'KerasSimpsons', 'kaggle_simpson_testset')\n",
    "\n",
    "nb_train_samples = 30000\n",
    "nb_validation_samples = 990\n",
    "epochs = 50\n",
    "batch_size = 32"
   ]
  },
  {
   "cell_type": "code",
   "execution_count": null,
   "metadata": {
    "collapsed": true
   },
   "outputs": [],
   "source": [
    "print validation_data_dir"
   ]
  },
  {
   "cell_type": "code",
   "execution_count": null,
   "metadata": {
    "collapsed": true
   },
   "outputs": [],
   "source": [
    "## need to check the data_folders as I think there are more directories then originally trained on\n",
    "data_folders"
   ]
  },
  {
   "cell_type": "code",
   "execution_count": 4,
   "metadata": {
    "collapsed": true
   },
   "outputs": [],
   "source": [
    "# Model definition\n",
    "if K.image_data_format() == 'channels_first':\n",
    "    input_shape = (3, img_width, img_height)\n",
    "else:\n",
    "    input_shape = (img_width, img_height, 3)\n",
    "\n",
    "    \n",
    "    \n",
    "NumLabels = 20\n",
    "    \n",
    "model = Sequential()\n",
    "model.add(Conv2D(32, (5, 5), input_shape=input_shape))\n",
    "model.add(Activation('relu'))\n",
    "model.add(MaxPooling2D(pool_size=(2, 2)))\n",
    "\n",
    "model.add(Conv2D(64, (3, 3)))\n",
    "model.add(Activation('relu'))\n",
    "model.add(MaxPooling2D(pool_size=(2, 2)))\n",
    "\n",
    "model.add(Conv2D(128, (3, 3)))\n",
    "model.add(Activation('relu'))\n",
    "model.add(MaxPooling2D(pool_size=(2, 2)))\n",
    "\n",
    "model.add(Flatten())\n",
    "model.add(Dense(128))\n",
    "model.add(Activation('relu'))\n",
    "model.add(Dropout(0.5))\n",
    "model.add(Dense(64))\n",
    "model.add(Activation('relu'))\n",
    "model.add(Dropout(0.5))\n",
    "model.add(Dense(NumLabels))\n",
    "model.add(Activation('softmax'))\n",
    "\n",
    "model.compile(loss='categorical_crossentropy',\n",
    "              optimizer='adam',\n",
    "              metrics=['accuracy'])\n"
   ]
  },
  {
   "cell_type": "code",
   "execution_count": 5,
   "metadata": {
    "collapsed": true
   },
   "outputs": [],
   "source": [
    "# Data augmentation for training\n",
    "train_datagen = ImageDataGenerator(\n",
    "    rescale=1. / 255.0,\n",
    "    shear_range=0.2,\n",
    "    zoom_range=0.2,\n",
    "    width_shift_range = 0.2,\n",
    "    height_shift_range = 0.2,\n",
    "    fill_mode = 'nearest',\n",
    "    horizontal_flip=True)\n",
    "\n",
    "# Only rescaling for validation\n",
    "valid_datagen = ImageDataGenerator(rescale=1. / 255.0)\n"
   ]
  },
  {
   "cell_type": "code",
   "execution_count": 6,
   "metadata": {},
   "outputs": [
    {
     "name": "stdout",
     "output_type": "stream",
     "text": [
      "Found 19548 images belonging to 20 classes.\n"
     ]
    }
   ],
   "source": [
    "# Flows the data directly from the directory structure, resizing where needed\n",
    "train_generator = train_datagen.flow_from_directory(\n",
    "    train_data_dir,\n",
    "    target_size=(img_width, img_height),\n",
    "    batch_size=batch_size,\n",
    "    class_mode='categorical')\n"
   ]
  },
  {
   "cell_type": "code",
   "execution_count": null,
   "metadata": {
    "collapsed": true
   },
   "outputs": [],
   "source": [
    "### tunablge parameter ===  batch_size is 1\n",
    "### other one is image size   64 vs 96  vs 128\n"
   ]
  },
  {
   "cell_type": "code",
   "execution_count": 7,
   "metadata": {},
   "outputs": [
    {
     "name": "stdout",
     "output_type": "stream",
     "text": [
      "Found 990 images belonging to 20 classes.\n",
      "Epoch 1/50\n",
      "937/937 [==============================] - 92s - loss: 2.8107 - acc: 0.1315 - val_loss: 2.6941 - val_acc: 0.1750\n",
      "Epoch 2/50\n",
      "937/937 [==============================] - 86s - loss: 2.3187 - acc: 0.2861 - val_loss: 1.9714 - val_acc: 0.3948\n",
      "Epoch 3/50\n",
      "937/937 [==============================] - 96s - loss: 1.8123 - acc: 0.4391 - val_loss: 1.6366 - val_acc: 0.4833\n",
      "Epoch 4/50\n",
      "937/937 [==============================] - 92s - loss: 1.5397 - acc: 0.5286 - val_loss: 1.2130 - val_acc: 0.6031\n",
      "Epoch 5/50\n",
      "937/937 [==============================] - 92s - loss: 1.3522 - acc: 0.5802 - val_loss: 1.0981 - val_acc: 0.6260\n",
      "Epoch 6/50\n",
      "937/937 [==============================] - 86s - loss: 1.2414 - acc: 0.6183 - val_loss: 0.9519 - val_acc: 0.6990\n",
      "Epoch 7/50\n",
      "937/937 [==============================] - 86s - loss: 1.1370 - acc: 0.6533 - val_loss: 0.9000 - val_acc: 0.6865\n",
      "Epoch 8/50\n",
      "937/937 [==============================] - 90s - loss: 1.0634 - acc: 0.6788 - val_loss: 0.8552 - val_acc: 0.7146\n",
      "Epoch 9/50\n",
      "937/937 [==============================] - 91s - loss: 0.9905 - acc: 0.6976 - val_loss: 0.6703 - val_acc: 0.7740\n",
      "Epoch 10/50\n",
      "937/937 [==============================] - 88s - loss: 0.9308 - acc: 0.7185 - val_loss: 0.8185 - val_acc: 0.7552\n",
      "Epoch 11/50\n",
      "937/937 [==============================] - 88s - loss: 0.8977 - acc: 0.7329 - val_loss: 0.6306 - val_acc: 0.7927\n",
      "Epoch 12/50\n",
      "937/937 [==============================] - 90s - loss: 0.8349 - acc: 0.7542 - val_loss: 0.5822 - val_acc: 0.8292\n",
      "Epoch 13/50\n",
      "937/937 [==============================] - 87s - loss: 0.8261 - acc: 0.7612 - val_loss: 0.6542 - val_acc: 0.7958\n",
      "Epoch 14/50\n",
      "937/937 [==============================] - 85s - loss: 0.7879 - acc: 0.7742 - val_loss: 0.5839 - val_acc: 0.8292\n",
      "Epoch 15/50\n",
      "937/937 [==============================] - 83s - loss: 0.7693 - acc: 0.7837 - val_loss: 0.4877 - val_acc: 0.8542\n",
      "Epoch 16/50\n",
      "937/937 [==============================] - 87s - loss: 0.7358 - acc: 0.7911 - val_loss: 0.4521 - val_acc: 0.8688\n",
      "Epoch 17/50\n",
      "937/937 [==============================] - 85s - loss: 0.7227 - acc: 0.7989 - val_loss: 0.4749 - val_acc: 0.8521\n",
      "Epoch 18/50\n",
      "937/937 [==============================] - 83s - loss: 0.7060 - acc: 0.8014 - val_loss: 0.4570 - val_acc: 0.8677\n",
      "Epoch 19/50\n",
      "937/937 [==============================] - 85s - loss: 0.7070 - acc: 0.8024 - val_loss: 0.3765 - val_acc: 0.8948\n",
      "Epoch 20/50\n",
      "937/937 [==============================] - 84s - loss: 0.6685 - acc: 0.8139 - val_loss: 0.4216 - val_acc: 0.8802\n",
      "Epoch 21/50\n",
      "937/937 [==============================] - 86s - loss: 0.6485 - acc: 0.8198 - val_loss: 0.3774 - val_acc: 0.8990\n",
      "Epoch 22/50\n",
      "937/937 [==============================] - 83s - loss: 0.6397 - acc: 0.8248 - val_loss: 0.3554 - val_acc: 0.8927\n",
      "Epoch 23/50\n",
      "937/937 [==============================] - 84s - loss: 0.6419 - acc: 0.8229 - val_loss: 0.3698 - val_acc: 0.8958\n",
      "Epoch 24/50\n",
      "937/937 [==============================] - 89s - loss: 0.6227 - acc: 0.8297 - val_loss: 0.3326 - val_acc: 0.9052\n",
      "Epoch 25/50\n",
      "937/937 [==============================] - 84s - loss: 0.6168 - acc: 0.8315 - val_loss: 0.3977 - val_acc: 0.8823\n",
      "Epoch 26/50\n",
      "937/937 [==============================] - 86s - loss: 0.6018 - acc: 0.8350 - val_loss: 0.3161 - val_acc: 0.9125\n",
      "Epoch 27/50\n",
      "937/937 [==============================] - 90s - loss: 0.5946 - acc: 0.8378 - val_loss: 0.3441 - val_acc: 0.8969\n",
      "Epoch 28/50\n",
      "937/937 [==============================] - 84s - loss: 0.5672 - acc: 0.8444 - val_loss: 0.3054 - val_acc: 0.9010\n",
      "Epoch 29/50\n",
      "937/937 [==============================] - 85s - loss: 0.5873 - acc: 0.8420 - val_loss: 0.3325 - val_acc: 0.9052\n",
      "Epoch 30/50\n",
      "937/937 [==============================] - 86s - loss: 0.5674 - acc: 0.8452 - val_loss: 0.3311 - val_acc: 0.9010\n",
      "Epoch 31/50\n",
      "937/937 [==============================] - 86s - loss: 0.5641 - acc: 0.8500 - val_loss: 0.3269 - val_acc: 0.8990\n",
      "Epoch 32/50\n",
      "937/937 [==============================] - 86s - loss: 0.5777 - acc: 0.8441 - val_loss: 0.2842 - val_acc: 0.9146\n",
      "Epoch 33/50\n",
      "937/937 [==============================] - 88s - loss: 0.5508 - acc: 0.8500 - val_loss: 0.3086 - val_acc: 0.9094\n",
      "Epoch 34/50\n",
      "937/937 [==============================] - 83s - loss: 0.5401 - acc: 0.8555 - val_loss: 0.2734 - val_acc: 0.9240\n",
      "Epoch 35/50\n",
      "937/937 [==============================] - 84s - loss: 0.5440 - acc: 0.8549 - val_loss: 0.2899 - val_acc: 0.9146\n",
      "Epoch 36/50\n",
      "937/937 [==============================] - 86s - loss: 0.5331 - acc: 0.8577 - val_loss: 0.2986 - val_acc: 0.9073\n",
      "Epoch 37/50\n",
      "937/937 [==============================] - 85s - loss: 0.5258 - acc: 0.8593 - val_loss: 0.2638 - val_acc: 0.9250\n",
      "Epoch 38/50\n",
      "937/937 [==============================] - 83s - loss: 0.5248 - acc: 0.8600 - val_loss: 0.2887 - val_acc: 0.9073\n",
      "Epoch 39/50\n",
      "937/937 [==============================] - 84s - loss: 0.5137 - acc: 0.8654 - val_loss: 0.2847 - val_acc: 0.9156\n",
      "Epoch 40/50\n",
      "937/937 [==============================] - 89s - loss: 0.5194 - acc: 0.8616 - val_loss: 0.2827 - val_acc: 0.9177\n",
      "Epoch 41/50\n",
      "937/937 [==============================] - 89s - loss: 0.5141 - acc: 0.8634 - val_loss: 0.2713 - val_acc: 0.9115\n",
      "Epoch 42/50\n",
      "937/937 [==============================] - 86s - loss: 0.5033 - acc: 0.8674 - val_loss: 0.2774 - val_acc: 0.9229\n",
      "Epoch 43/50\n",
      "937/937 [==============================] - 90s - loss: 0.5085 - acc: 0.8629 - val_loss: 0.2760 - val_acc: 0.9250\n",
      "Epoch 44/50\n",
      "937/937 [==============================] - 88s - loss: 0.5024 - acc: 0.8648 - val_loss: 0.3433 - val_acc: 0.9083\n",
      "Epoch 45/50\n",
      "937/937 [==============================] - 91s - loss: 0.4998 - acc: 0.8696 - val_loss: 0.2764 - val_acc: 0.9156\n",
      "Epoch 46/50\n",
      "937/937 [==============================] - 89s - loss: 0.4962 - acc: 0.8692 - val_loss: 0.2818 - val_acc: 0.9073\n",
      "Epoch 47/50\n",
      "937/937 [==============================] - 87s - loss: 0.5033 - acc: 0.8697 - val_loss: 0.2794 - val_acc: 0.9219\n",
      "Epoch 48/50\n",
      "937/937 [==============================] - 86s - loss: 0.4853 - acc: 0.8734 - val_loss: 0.2942 - val_acc: 0.9156\n",
      "Epoch 49/50\n",
      "937/937 [==============================] - 90s - loss: 0.4873 - acc: 0.8704 - val_loss: 0.2413 - val_acc: 0.9229\n",
      "Epoch 50/50\n",
      "937/937 [==============================] - 89s - loss: 0.4695 - acc: 0.8769 - val_loss: 0.2592 - val_acc: 0.9292\n"
     ]
    }
   ],
   "source": [
    "validation_generator = valid_datagen.flow_from_directory(\n",
    "    validation_data_dir + \"/\",\n",
    "    target_size=(img_width, img_height),\n",
    "    batch_size=batch_size,\n",
    "    class_mode='categorical')\n",
    "\n",
    "simpsonsModel = model.fit_generator(\n",
    "    train_generator,\n",
    "    steps_per_epoch=nb_train_samples // batch_size,\n",
    "    epochs=epochs,\n",
    "    validation_data=validation_generator,\n",
    "    validation_steps=nb_validation_samples // batch_size)\n"
   ]
  },
  {
   "cell_type": "code",
   "execution_count": 19,
   "metadata": {
    "collapsed": true
   },
   "outputs": [],
   "source": [
    "import h5py\n",
    "model.save_weights('simpsons_weights.h5')\n",
    "# Case-1 I have used like :\n",
    "\n",
    "# model.compile(loss=’categorical_crossentropy’, optimizer=’Nadam’, metrics=[‘acc’, ‘fmeasure’, ‘precision’, ‘recall’])\n",
    "\n",
    "# Case-2 and also used :\n",
    "\n",
    "# def score(yh, pr):\n",
    "# coords = [np.where(yhh > 0)[0][0] for yhh in yh]\n",
    "# yh = [yhh[co:] for yhh, co in zip(yh, coords)]\n",
    "# ypr = [prr[co:] for prr, co in zip(pr, coords)]\n",
    "# fyh = [c for row in yh for c in row]\n",
    "# fpr = [c for row in ypr for c in row]\n",
    "# return fyh, fpr\n",
    "\n",
    "# pr = model.predict_classes(X_train)\n",
    "# yh = y_train.argmax(2)\n",
    "# fyh, fpr = score(yh, pr)\n",
    "# print ‘Training accuracy:’, accuracy_score(fyh, fpr)\n",
    "# print ‘Training confusion matrix:’\n",
    "# print confusion_matrix(fyh, fpr)\n",
    "# precision_recall_fscore_support(fyh, fpr)\n",
    "\n",
    "# pr = model.predict_classes(X_test)\n",
    "# yh = y_test.argmax(2)\n",
    "# fyh, fpr = score(yh, pr)\n",
    "# print ‘Testing accuracy:’, accuracy_score(fyh, fpr)\n",
    "# print ‘Testing confusion matrix:’\n",
    "# print confusion_matrix(fyh, fpr)\n",
    "# precision_recall_fscore_support(fyh, fpr)\n",
    "\n",
    "# What I have observed is that, accuracy of case-1 and case-2 are different?\n",
    "\n"
   ]
  },
  {
   "cell_type": "code",
   "execution_count": 9,
   "metadata": {},
   "outputs": [
    {
     "data": {
      "text/plain": [
       "<function sklearn.metrics.classification.confusion_matrix>"
      ]
     },
     "execution_count": 9,
     "metadata": {},
     "output_type": "execute_result"
    }
   ],
   "source": [
    "from sklearn.metrics import confusion_matrix\n",
    "confusion_matrix()\n",
    "# >>> y_true = [\"cat\", \"ant\", \"cat\", \"cat\", \"ant\", \"bird\"]\n",
    "# >>> y_pred = [\"ant\", \"ant\", \"cat\", \"cat\", \"ant\", \"cat\"]\n",
    "# >>> confusion_matrix(y_true, y_pred, labels=[\"ant\", \"bird\", \"cat\"])\n",
    "# array([[2, 0, 0],\n",
    "#        [0, 0, 1],\n",
    "#        [1, 0, 2]])"
   ]
  },
  {
   "cell_type": "code",
   "execution_count": 12,
   "metadata": {},
   "outputs": [
    {
     "ename": "RuntimeError",
     "evalue": "module compiled against API version 0xb but this version of numpy is 0xa",
     "output_type": "error",
     "traceback": [
      "\u001b[0;31m---------------------------------------------------------------------------\u001b[0m",
      "\u001b[0;31mRuntimeError\u001b[0m                              Traceback (most recent call last)",
      "\u001b[0;31mRuntimeError\u001b[0m: module compiled against API version 0xb but this version of numpy is 0xa"
     ]
    },
    {
     "ename": "ImportError",
     "evalue": "numpy.core.multiarray failed to import",
     "output_type": "error",
     "traceback": [
      "\u001b[0;31m---------------------------------------------------------------------------\u001b[0m",
      "\u001b[0;31mImportError\u001b[0m                               Traceback (most recent call last)",
      "\u001b[0;32m<ipython-input-12-8884e01deb44>\u001b[0m in \u001b[0;36m<module>\u001b[0;34m()\u001b[0m\n\u001b[1;32m      1\u001b[0m \u001b[0;32mfrom\u001b[0m \u001b[0mPIL\u001b[0m \u001b[0;32mimport\u001b[0m \u001b[0mImage\u001b[0m\u001b[0;34m\u001b[0m\u001b[0m\n\u001b[0;32m----> 2\u001b[0;31m \u001b[0;32mimport\u001b[0m \u001b[0mmatplotlib\u001b[0m\u001b[0;34m.\u001b[0m\u001b[0mpyplot\u001b[0m \u001b[0;32mas\u001b[0m \u001b[0mplt\u001b[0m\u001b[0;34m\u001b[0m\u001b[0m\n\u001b[0m\u001b[1;32m      3\u001b[0m \u001b[0;32mimport\u001b[0m \u001b[0mmatplotlib\u001b[0m\u001b[0;34m.\u001b[0m\u001b[0mimage\u001b[0m \u001b[0;32mas\u001b[0m \u001b[0mimg\u001b[0m\u001b[0;34m\u001b[0m\u001b[0m\n\u001b[1;32m      4\u001b[0m \u001b[0;32mimport\u001b[0m \u001b[0mpandas\u001b[0m \u001b[0;32mas\u001b[0m \u001b[0mpd\u001b[0m\u001b[0;34m\u001b[0m\u001b[0m\n\u001b[1;32m      5\u001b[0m \u001b[0mroot_dir\u001b[0m \u001b[0;34m=\u001b[0m \u001b[0;34m'\\\\tmp\\\\simpsons\\\\internet'\u001b[0m\u001b[0;34m\u001b[0m\u001b[0m\n",
      "\u001b[0;32m/home/dagutman/anaconda2/envs/SurvivalNet/lib/python2.7/site-packages/matplotlib-1.4.3-py2.7-linux-x86_64.egg/matplotlib/pyplot.py\u001b[0m in \u001b[0;36m<module>\u001b[0;34m()\u001b[0m\n\u001b[1;32m     25\u001b[0m \u001b[0;34m\u001b[0m\u001b[0m\n\u001b[1;32m     26\u001b[0m \u001b[0;32mimport\u001b[0m \u001b[0mmatplotlib\u001b[0m\u001b[0;34m\u001b[0m\u001b[0m\n\u001b[0;32m---> 27\u001b[0;31m \u001b[0;32mimport\u001b[0m \u001b[0mmatplotlib\u001b[0m\u001b[0;34m.\u001b[0m\u001b[0mcolorbar\u001b[0m\u001b[0;34m\u001b[0m\u001b[0m\n\u001b[0m\u001b[1;32m     28\u001b[0m \u001b[0;32mfrom\u001b[0m \u001b[0mmatplotlib\u001b[0m \u001b[0;32mimport\u001b[0m \u001b[0mstyle\u001b[0m\u001b[0;34m\u001b[0m\u001b[0m\n\u001b[1;32m     29\u001b[0m \u001b[0;32mfrom\u001b[0m \u001b[0mmatplotlib\u001b[0m \u001b[0;32mimport\u001b[0m \u001b[0m_pylab_helpers\u001b[0m\u001b[0;34m,\u001b[0m \u001b[0minteractive\u001b[0m\u001b[0;34m\u001b[0m\u001b[0m\n",
      "\u001b[0;32m/home/dagutman/anaconda2/envs/SurvivalNet/lib/python2.7/site-packages/matplotlib-1.4.3-py2.7-linux-x86_64.egg/matplotlib/colorbar.py\u001b[0m in \u001b[0;36m<module>\u001b[0;34m()\u001b[0m\n\u001b[1;32m     32\u001b[0m \u001b[0;32mimport\u001b[0m \u001b[0mmatplotlib\u001b[0m\u001b[0;34m.\u001b[0m\u001b[0martist\u001b[0m \u001b[0;32mas\u001b[0m \u001b[0mmartist\u001b[0m\u001b[0;34m\u001b[0m\u001b[0m\n\u001b[1;32m     33\u001b[0m \u001b[0;32mimport\u001b[0m \u001b[0mmatplotlib\u001b[0m\u001b[0;34m.\u001b[0m\u001b[0mcbook\u001b[0m \u001b[0;32mas\u001b[0m \u001b[0mcbook\u001b[0m\u001b[0;34m\u001b[0m\u001b[0m\n\u001b[0;32m---> 34\u001b[0;31m \u001b[0;32mimport\u001b[0m \u001b[0mmatplotlib\u001b[0m\u001b[0;34m.\u001b[0m\u001b[0mcollections\u001b[0m \u001b[0;32mas\u001b[0m \u001b[0mcollections\u001b[0m\u001b[0;34m\u001b[0m\u001b[0m\n\u001b[0m\u001b[1;32m     35\u001b[0m \u001b[0;32mimport\u001b[0m \u001b[0mmatplotlib\u001b[0m\u001b[0;34m.\u001b[0m\u001b[0mcolors\u001b[0m \u001b[0;32mas\u001b[0m \u001b[0mcolors\u001b[0m\u001b[0;34m\u001b[0m\u001b[0m\n\u001b[1;32m     36\u001b[0m \u001b[0;32mimport\u001b[0m \u001b[0mmatplotlib\u001b[0m\u001b[0;34m.\u001b[0m\u001b[0mcontour\u001b[0m \u001b[0;32mas\u001b[0m \u001b[0mcontour\u001b[0m\u001b[0;34m\u001b[0m\u001b[0m\n",
      "\u001b[0;32m/home/dagutman/anaconda2/envs/SurvivalNet/lib/python2.7/site-packages/matplotlib-1.4.3-py2.7-linux-x86_64.egg/matplotlib/collections.py\u001b[0m in \u001b[0;36m<module>\u001b[0;34m()\u001b[0m\n\u001b[1;32m     25\u001b[0m \u001b[0;32mimport\u001b[0m \u001b[0mmatplotlib\u001b[0m\u001b[0;34m.\u001b[0m\u001b[0martist\u001b[0m \u001b[0;32mas\u001b[0m \u001b[0martist\u001b[0m\u001b[0;34m\u001b[0m\u001b[0m\n\u001b[1;32m     26\u001b[0m \u001b[0;32mfrom\u001b[0m \u001b[0mmatplotlib\u001b[0m\u001b[0;34m.\u001b[0m\u001b[0martist\u001b[0m \u001b[0;32mimport\u001b[0m \u001b[0mallow_rasterization\u001b[0m\u001b[0;34m\u001b[0m\u001b[0m\n\u001b[0;32m---> 27\u001b[0;31m \u001b[0;32mimport\u001b[0m \u001b[0mmatplotlib\u001b[0m\u001b[0;34m.\u001b[0m\u001b[0mbackend_bases\u001b[0m \u001b[0;32mas\u001b[0m \u001b[0mbackend_bases\u001b[0m\u001b[0;34m\u001b[0m\u001b[0m\n\u001b[0m\u001b[1;32m     28\u001b[0m \u001b[0;32mimport\u001b[0m \u001b[0mmatplotlib\u001b[0m\u001b[0;34m.\u001b[0m\u001b[0mpath\u001b[0m \u001b[0;32mas\u001b[0m \u001b[0mmpath\u001b[0m\u001b[0;34m\u001b[0m\u001b[0m\n\u001b[1;32m     29\u001b[0m \u001b[0;32mfrom\u001b[0m \u001b[0mmatplotlib\u001b[0m \u001b[0;32mimport\u001b[0m \u001b[0m_path\u001b[0m\u001b[0;34m\u001b[0m\u001b[0m\n",
      "\u001b[0;32m/home/dagutman/anaconda2/envs/SurvivalNet/lib/python2.7/site-packages/matplotlib-1.4.3-py2.7-linux-x86_64.egg/matplotlib/backend_bases.py\u001b[0m in \u001b[0;36m<module>\u001b[0;34m()\u001b[0m\n\u001b[1;32m     54\u001b[0m \u001b[0;34m\u001b[0m\u001b[0m\n\u001b[1;32m     55\u001b[0m \u001b[0;32mimport\u001b[0m \u001b[0mmatplotlib\u001b[0m\u001b[0;34m.\u001b[0m\u001b[0mtight_bbox\u001b[0m \u001b[0;32mas\u001b[0m \u001b[0mtight_bbox\u001b[0m\u001b[0;34m\u001b[0m\u001b[0m\n\u001b[0;32m---> 56\u001b[0;31m \u001b[0;32mimport\u001b[0m \u001b[0mmatplotlib\u001b[0m\u001b[0;34m.\u001b[0m\u001b[0mtextpath\u001b[0m \u001b[0;32mas\u001b[0m \u001b[0mtextpath\u001b[0m\u001b[0;34m\u001b[0m\u001b[0m\n\u001b[0m\u001b[1;32m     57\u001b[0m \u001b[0;32mfrom\u001b[0m \u001b[0mmatplotlib\u001b[0m\u001b[0;34m.\u001b[0m\u001b[0mpath\u001b[0m \u001b[0;32mimport\u001b[0m \u001b[0mPath\u001b[0m\u001b[0;34m\u001b[0m\u001b[0m\n\u001b[1;32m     58\u001b[0m \u001b[0;32mfrom\u001b[0m \u001b[0mmatplotlib\u001b[0m\u001b[0;34m.\u001b[0m\u001b[0mcbook\u001b[0m \u001b[0;32mimport\u001b[0m \u001b[0mmplDeprecation\u001b[0m\u001b[0;34m\u001b[0m\u001b[0m\n",
      "\u001b[0;32m/home/dagutman/anaconda2/envs/SurvivalNet/lib/python2.7/site-packages/matplotlib-1.4.3-py2.7-linux-x86_64.egg/matplotlib/textpath.py\u001b[0m in \u001b[0;36m<module>\u001b[0;34m()\u001b[0m\n\u001b[1;32m     17\u001b[0m \u001b[0;32mfrom\u001b[0m \u001b[0mmatplotlib\u001b[0m\u001b[0;34m.\u001b[0m\u001b[0mpath\u001b[0m \u001b[0;32mimport\u001b[0m \u001b[0mPath\u001b[0m\u001b[0;34m\u001b[0m\u001b[0m\n\u001b[1;32m     18\u001b[0m \u001b[0;32mfrom\u001b[0m \u001b[0mmatplotlib\u001b[0m \u001b[0;32mimport\u001b[0m \u001b[0mrcParams\u001b[0m\u001b[0;34m\u001b[0m\u001b[0m\n\u001b[0;32m---> 19\u001b[0;31m \u001b[0;32mimport\u001b[0m \u001b[0mmatplotlib\u001b[0m\u001b[0;34m.\u001b[0m\u001b[0mfont_manager\u001b[0m \u001b[0;32mas\u001b[0m \u001b[0mfont_manager\u001b[0m\u001b[0;34m\u001b[0m\u001b[0m\n\u001b[0m\u001b[1;32m     20\u001b[0m \u001b[0;32mfrom\u001b[0m \u001b[0mmatplotlib\u001b[0m\u001b[0;34m.\u001b[0m\u001b[0mft2font\u001b[0m \u001b[0;32mimport\u001b[0m \u001b[0mFT2Font\u001b[0m\u001b[0;34m,\u001b[0m \u001b[0mKERNING_DEFAULT\u001b[0m\u001b[0;34m,\u001b[0m \u001b[0mLOAD_NO_HINTING\u001b[0m\u001b[0;34m\u001b[0m\u001b[0m\n\u001b[1;32m     21\u001b[0m \u001b[0;32mfrom\u001b[0m \u001b[0mmatplotlib\u001b[0m\u001b[0;34m.\u001b[0m\u001b[0mft2font\u001b[0m \u001b[0;32mimport\u001b[0m \u001b[0mLOAD_TARGET_LIGHT\u001b[0m\u001b[0;34m\u001b[0m\u001b[0m\n",
      "\u001b[0;32m/home/dagutman/anaconda2/envs/SurvivalNet/lib/python2.7/site-packages/matplotlib-1.4.3-py2.7-linux-x86_64.egg/matplotlib/font_manager.py\u001b[0m in \u001b[0;36m<module>\u001b[0;34m()\u001b[0m\n\u001b[1;32m     56\u001b[0m \u001b[0;32mimport\u001b[0m \u001b[0mmatplotlib\u001b[0m\u001b[0;34m\u001b[0m\u001b[0m\n\u001b[1;32m     57\u001b[0m \u001b[0;32mfrom\u001b[0m \u001b[0mmatplotlib\u001b[0m \u001b[0;32mimport\u001b[0m \u001b[0mafm\u001b[0m\u001b[0;34m\u001b[0m\u001b[0m\n\u001b[0;32m---> 58\u001b[0;31m \u001b[0;32mfrom\u001b[0m \u001b[0mmatplotlib\u001b[0m \u001b[0;32mimport\u001b[0m \u001b[0mft2font\u001b[0m\u001b[0;34m\u001b[0m\u001b[0m\n\u001b[0m\u001b[1;32m     59\u001b[0m \u001b[0;32mfrom\u001b[0m \u001b[0mmatplotlib\u001b[0m \u001b[0;32mimport\u001b[0m \u001b[0mrcParams\u001b[0m\u001b[0;34m,\u001b[0m \u001b[0mget_cachedir\u001b[0m\u001b[0;34m\u001b[0m\u001b[0m\n\u001b[1;32m     60\u001b[0m \u001b[0;32mfrom\u001b[0m \u001b[0mmatplotlib\u001b[0m\u001b[0;34m.\u001b[0m\u001b[0mcbook\u001b[0m \u001b[0;32mimport\u001b[0m \u001b[0mis_string_like\u001b[0m\u001b[0;34m\u001b[0m\u001b[0m\n",
      "\u001b[0;31mImportError\u001b[0m: numpy.core.multiarray failed to import"
     ]
    }
   ],
   "source": [
    "from PIL import Image\n",
    "import matplotlib.pyplot as plt\n",
    "import matplotlib.image as img\n",
    "import pandas as pd\n",
    "root_dir = '\\\\tmp\\\\simpsons\\\\internet'\n",
    "\n",
    "# train_generator.class_indices\n",
    "chardict = {'grampa': 0,\n",
    " 'apu': 1,\n",
    " 'bart': 2,\n",
    " 'burns': 3,\n",
    " 'chief': 4,\n",
    " 'comic': 5,\n",
    " 'edna': 6,\n",
    " 'homer': 7,\n",
    " 'brockman': 8,\n",
    " 'krusty': 9,\n",
    " 'lenny': 10,\n",
    " 'lisa': 11,\n",
    " 'marge': 12,\n",
    " 'mayor': 13,\n",
    " 'milhouse': 14,\n",
    " 'moe': 15,\n",
    " 'ned': 16,\n",
    " 'nelson': 17,\n",
    " 'skinner': 18,\n",
    " 'sideshow': 19}\n",
    "\n",
    "rows = 3\n",
    "cols = 3\n",
    "fig, ax = plt.subplots(rows, cols, frameon=False, figsize=(7, 7))\n",
    "fig.suptitle('Internet images', fontsize=20, y = 1.03)\n",
    "count=0\n",
    "for i in range(rows):\n",
    "    for j in range(cols):\n",
    "        all_files = os.listdir(root_dir)\n",
    "        imgpath = os.path.join(root_dir, all_files[count])\n",
    "        img = Image.open(imgpath)\n",
    "        img = img.resize((img_width, img_height), Image.ANTIALIAS)\n",
    "        ax[i][j].imshow(img)\n",
    "        img = img_to_array(img)\n",
    "        img = img/255.0\n",
    "        img = img.reshape((1,) + img.shape)\n",
    "        pred = model.predict(img, batch_size= 1)\n",
    "        pred = pd.DataFrame(np.transpose(np.round(pred, decimals = 3)))\n",
    "        pred = pred.nlargest(n = 3, columns = 0)\n",
    "        pred['char'] = [list(chardict.keys())[list(chardict.values()).index(x)] for x in pred.index]\n",
    "        charstr = ''\n",
    "        for k in range(0,3):\n",
    "            if k < 2:\n",
    "                charstr = charstr+str(pred.iloc[k,1])+': '+str(pred.iloc[k,0])+'\\n'\n",
    "            else:\n",
    "                charstr = charstr+str(pred.iloc[k,1])+': '+str(pred.iloc[k,0])\n",
    "        ec = (0, .8, .1)\n",
    "        fc = (0, .9, .2)\n",
    "        count = count + 1\n",
    "        ax[i][j].text(0, -10, charstr, size=10, rotation=0,\n",
    "                ha=\"left\", va=\"top\", \n",
    "                bbox=dict(boxstyle=\"round\", ec=ec, fc=fc, alpha = 0.7))\n",
    "plt.setp(ax, xticks=[], yticks=[])\n",
    "plt.tight_layout(rect=[0, 0.03, 1, 0.95])"
   ]
  }
 ],
 "metadata": {
  "kernelspec": {
   "display_name": "Python 2",
   "language": "python",
   "name": "python2"
  },
  "language_info": {
   "codemirror_mode": {
    "name": "ipython",
    "version": 2
   },
   "file_extension": ".py",
   "mimetype": "text/x-python",
   "name": "python",
   "nbconvert_exporter": "python",
   "pygments_lexer": "ipython2",
   "version": "2.7.13"
  }
 },
 "nbformat": 4,
 "nbformat_minor": 2
}
